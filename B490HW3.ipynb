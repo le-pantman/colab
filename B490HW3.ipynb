{
  "nbformat": 4,
  "nbformat_minor": 0,
  "metadata": {
    "colab": {
      "provenance": [],
      "authorship_tag": "ABX9TyMhwjoBGk0GtdFBp5MlS8/Q"
    },
    "kernelspec": {
      "name": "python3",
      "display_name": "Python 3"
    },
    "language_info": {
      "name": "python"
    }
  },
  "cells": [
    {
      "cell_type": "markdown",
      "source": [
        "\\begin{equation}\n",
        "\\text{CSCI-B490}\\quad\\quad\\textbf{Homework 3}\\quad\\quad\\text{Joey Brewington}\n",
        "\\end{equation}"
      ],
      "metadata": {
        "id": "wxuBMrYXmY7J"
      }
    },
    {
      "cell_type": "code",
      "execution_count": null,
      "metadata": {
        "id": "N-I6f67liDWK"
      },
      "outputs": [],
      "source": [
        "!pip install qiskit[visualization] pylatexenc ipywidgets\n",
        "%matplotlib inline"
      ]
    },
    {
      "cell_type": "code",
      "source": [
        "#initialization\n",
        "import matplotlib.pyplot as plt\n",
        "import numpy as np\n",
        "\n",
        "# importing Qiskit\n",
        "from qiskit import IBMQ, Aer, assemble, transpile\n",
        "from qiskit import QuantumCircuit, ClassicalRegister, QuantumRegister\n",
        "from qiskit.providers.ibmq import least_busy\n",
        "\n",
        "from qiskit.visualization import plot_histogram"
      ],
      "metadata": {
        "id": "iRD6AORksHDC"
      },
      "execution_count": 6,
      "outputs": []
    },
    {
      "cell_type": "markdown",
      "source": [
        "$\\textbf{Question 1:}\\\\\n",
        "\\textbf{a)}\n",
        "\\langle{0}\\lvert{+}\\rangle\n",
        "\\langle{+}\\lvert{0}\\rangle = 1/2 \\\\\n",
        "\\quad\\langle{0}\\lvert{-}\\rangle\n",
        "\\langle{-}\\lvert{0}\\rangle = 1/2\n",
        "$"
      ],
      "metadata": {
        "id": "epUsuDefso8T"
      }
    },
    {
      "cell_type": "code",
      "source": [
        "qc = QuantumCircuit(1, 1)\n",
        "qc.barrier()\n",
        "qc.h(0)\n",
        "qc.measure(0, 0)\n",
        "qc.draw(output='mpl')"
      ],
      "metadata": {
        "colab": {
          "base_uri": "https://localhost:8080/",
          "height": 140
        },
        "id": "VKn7MutinYSq",
        "outputId": "11cb16ab-c12a-44fc-9a21-a38700a07537"
      },
      "execution_count": 24,
      "outputs": [
        {
          "output_type": "execute_result",
          "data": {
            "text/plain": [
              "<Figure size 253.926x144.48 with 1 Axes>"
            ],
            "image/png": "[encoded data removed]"
          },
          "metadata": {},
          "execution_count": 24
        }
      ]
    },
    {
      "cell_type": "code",
      "source": [
        "sim = Aer.get_backend('aer_simulator')\n",
        "job = sim.run(assemble(qc), shots=100)\n",
        "counts = job.result().get_counts()\n",
        "counts['Plus'] = counts.pop('0')\n",
        "counts['Minus'] = counts.pop('1')\n",
        "print(counts)\n",
        "plot_histogram(counts)"
      ],
      "metadata": {
        "colab": {
          "base_uri": "https://localhost:8080/",
          "height": 370
        },
        "id": "2l1cTJpIrU3K",
        "outputId": "9a31163c-b9fd-41c1-dc95-fcc3ca8fdb87"
      },
      "execution_count": 25,
      "outputs": [
        {
          "output_type": "stream",
          "name": "stdout",
          "text": [
            "{'Plus': 49, 'Minus': 51}\n"
          ]
        },
        {
          "output_type": "execute_result",
          "data": {
            "text/plain": [
              "<Figure size 504x360 with 1 Axes>"
            ],
            "image/png": "[encoded data removed]"
          },
          "metadata": {},
          "execution_count": 25
        }
      ]
    },
    {
      "cell_type": "markdown",
      "source": [
        "$\\textbf{b)}$"
      ],
      "metadata": {
        "id": "lU1hyjM2tJpi"
      }
    },
    {
      "cell_type": "code",
      "source": [
        "qc = QuantumCircuit(1, 1)\n",
        "qc.h(0)\n",
        "qc.barrier()\n",
        "qc.measure(0, 0)\n",
        "qc.draw(output='mpl')"
      ],
      "metadata": {
        "colab": {
          "base_uri": "https://localhost:8080/",
          "height": 140
        },
        "id": "huOVYx6Hu2Ad",
        "outputId": "1881aa79-02bc-4549-c318-2ebc871dc278"
      },
      "execution_count": 26,
      "outputs": [
        {
          "output_type": "execute_result",
          "data": {
            "text/plain": [
              "<Figure size 253.926x144.48 with 1 Axes>"
            ],
            "image/png": "[encoded data removed]"
          },
          "metadata": {},
          "execution_count": 26
        }
      ]
    },
    {
      "cell_type": "code",
      "source": [
        "sim = Aer.get_backend('aer_simulator')\n",
        "job = sim.run(assemble(qc), shots=100)\n",
        "counts = job.result().get_counts()\n",
        "print(counts)\n",
        "plot_histogram(counts)"
      ],
      "metadata": {
        "colab": {
          "base_uri": "https://localhost:8080/",
          "height": 340
        },
        "id": "U6Lnc4i8vcEG",
        "outputId": "6ba902ab-062a-4502-f712-de1d78eb4a29"
      },
      "execution_count": 27,
      "outputs": [
        {
          "output_type": "stream",
          "name": "stdout",
          "text": [
            "{'1': 46, '0': 54}\n"
          ]
        },
        {
          "output_type": "execute_result",
          "data": {
            "text/plain": [
              "<Figure size 504x360 with 1 Axes>"
            ],
            "image/png": "[encoded data removed]"
          },
          "metadata": {},
          "execution_count": 27
        }
      ]
    },
    {
      "cell_type": "markdown",
      "source": [
        "$\\textbf{c)}$"
      ],
      "metadata": {
        "id": "FG_m4fUAvigM"
      }
    },
    {
      "cell_type": "code",
      "source": [
        "qc = QuantumCircuit(1, 1)\n",
        "qc.initialize([1/2, np.sqrt(3)/2], 0)\n",
        "qc.barrier()\n",
        "qc.h(0)\n",
        "qc.measure(0, 0)\n",
        "qc.draw(output='mpl')"
      ],
      "metadata": {
        "colab": {
          "base_uri": "https://localhost:8080/",
          "height": 140
        },
        "id": "APqTzMMOvjvp",
        "outputId": "128185f0-9340-44c4-98a3-579e421ee03a"
      },
      "execution_count": 28,
      "outputs": [
        {
          "output_type": "execute_result",
          "data": {
            "text/plain": [
              "<Figure size 374.326x144.48 with 1 Axes>"
            ],
            "image/png": "[encoded data removed]"
          },
          "metadata": {},
          "execution_count": 28
        }
      ]
    },
    {
      "cell_type": "code",
      "source": [
        "sim = Aer.get_backend('aer_simulator')\n",
        "job = sim.run(assemble(qc), shots=100)\n",
        "counts = job.result().get_counts()\n",
        "counts['Plus'] = counts.pop('0')\n",
        "counts['Minus'] = counts.pop('1')\n",
        "print(counts)\n",
        "plot_histogram(counts)"
      ],
      "metadata": {
        "colab": {
          "base_uri": "https://localhost:8080/",
          "height": 370
        },
        "id": "WDAfsYxjv5L-",
        "outputId": "f02cb983-6097-4445-8579-3a6c2f4266d4"
      },
      "execution_count": 29,
      "outputs": [
        {
          "output_type": "stream",
          "name": "stdout",
          "text": [
            "{'Plus': 89, 'Minus': 11}\n"
          ]
        },
        {
          "output_type": "execute_result",
          "data": {
            "text/plain": [
              "<Figure size 504x360 with 1 Axes>"
            ],
            "image/png": "[encoded data removed]"
          },
          "metadata": {},
          "execution_count": 29
        }
      ]
    },
    {
      "cell_type": "markdown",
      "source": [
        "$\\textbf{Question 2:}\\\\\n",
        "\\textbf{a)}\n",
        "$"
      ],
      "metadata": {
        "id": "9hXw1Zwtw-_6"
      }
    },
    {
      "cell_type": "code",
      "source": [
        "qc = QuantumCircuit(2, 1)\n",
        "qc.barrier()\n",
        "qc.h(0)\n",
        "qc.measure(0, 0)\n",
        "qc.draw(output='mpl')"
      ],
      "metadata": {
        "colab": {
          "base_uri": "https://localhost:8080/",
          "height": 185
        },
        "id": "uEH2HtB9xMF6",
        "outputId": "f872f79c-6081-41ff-a536-89de85b857c9"
      },
      "execution_count": 30,
      "outputs": [
        {
          "output_type": "execute_result",
          "data": {
            "text/plain": [
              "<Figure size 267.052x204.68 with 1 Axes>"
            ],
            "image/png": "[encoded data removed]"
          },
          "metadata": {},
          "execution_count": 30
        }
      ]
    },
    {
      "cell_type": "code",
      "source": [
        "sim = Aer.get_backend('aer_simulator')\n",
        "job = sim.run(assemble(qc), shots=100)\n",
        "counts = job.result().get_counts()\n",
        "counts['Plus'] = counts.pop('0')\n",
        "counts['Minus'] = counts.pop('1')\n",
        "print(counts)\n",
        "plot_histogram(counts)"
      ],
      "metadata": {
        "colab": {
          "base_uri": "https://localhost:8080/",
          "height": 370
        },
        "id": "vWkH4hUMxQnn",
        "outputId": "ed4ffa14-85fe-433d-d204-3765669ff0da"
      },
      "execution_count": 31,
      "outputs": [
        {
          "output_type": "stream",
          "name": "stdout",
          "text": [
            "{'Plus': 51, 'Minus': 49}\n"
          ]
        },
        {
          "output_type": "execute_result",
          "data": {
            "text/plain": [
              "<Figure size 504x360 with 1 Axes>"
            ],
            "image/png": "[encoded data removed]"
          },
          "metadata": {},
          "execution_count": 31
        }
      ]
    },
    {
      "cell_type": "markdown",
      "source": [
        "$\\textbf{b)}$"
      ],
      "metadata": {
        "id": "O6-DgJDHxpgp"
      }
    },
    {
      "cell_type": "code",
      "source": [
        "qc = QuantumCircuit(2, 1)\n",
        "qc.h(0)\n",
        "qc.cnot(0,1)\n",
        "qc.barrier()\n",
        "qc.h(0)\n",
        "qc.measure(0, 0)\n",
        "qc.draw(output='mpl')"
      ],
      "metadata": {
        "colab": {
          "base_uri": "https://localhost:8080/",
          "height": 185
        },
        "id": "ahEEGcUTxTga",
        "outputId": "2b949bf9-ff40-44d5-ee83-35b73c26620a"
      },
      "execution_count": 32,
      "outputs": [
        {
          "output_type": "execute_result",
          "data": {
            "text/plain": [
              "<Figure size 387.452x204.68 with 1 Axes>"
            ],
            "image/png": "[encoded data removed]"
          },
          "metadata": {},
          "execution_count": 32
        }
      ]
    },
    {
      "cell_type": "code",
      "source": [
        "sim = Aer.get_backend('aer_simulator')\n",
        "job = sim.run(assemble(qc), shots=100)\n",
        "counts = job.result().get_counts()\n",
        "counts['Plus'] = counts.pop('0')\n",
        "counts['Minus'] = counts.pop('1')\n",
        "print(counts)\n",
        "plot_histogram(counts)"
      ],
      "metadata": {
        "colab": {
          "base_uri": "https://localhost:8080/",
          "height": 370
        },
        "id": "RACSu5SuyGh2",
        "outputId": "bf9984a2-2df7-40e6-aadf-015ddcf698f2"
      },
      "execution_count": 33,
      "outputs": [
        {
          "output_type": "stream",
          "name": "stdout",
          "text": [
            "{'Plus': 50, 'Minus': 50}\n"
          ]
        },
        {
          "output_type": "execute_result",
          "data": {
            "text/plain": [
              "<Figure size 504x360 with 1 Axes>"
            ],
            "image/png": "[encoded data removed]"
          },
          "metadata": {},
          "execution_count": 33
        }
      ]
    },
    {
      "cell_type": "markdown",
      "source": [
        "$\\textbf{Question 3:}\\\\\n",
        "\\textbf{a) }\n",
        "$"
      ],
      "metadata": {
        "id": "S4Y9y6FLyXB7"
      }
    },
    {
      "cell_type": "code",
      "source": [
        "qc = QuantumCircuit(2)\n",
        "qc.cnot(1,0)\n",
        "qc.cnot(0,1)\n",
        "qc.cnot(1,0)\n",
        "qc.draw(output='mpl')"
      ],
      "metadata": {
        "colab": {
          "base_uri": "https://localhost:8080/",
          "height": 140
        },
        "id": "I2GWrTwX1caF",
        "outputId": "4ab044f2-54e1-4369-e030-a813dbf4e15c"
      },
      "execution_count": 16,
      "outputs": [
        {
          "output_type": "execute_result",
          "data": {
            "text/plain": [
              "<Figure size 267.052x144.48 with 1 Axes>"
            ],
            "image/png": "[encoded data removed]"
          },
          "metadata": {},
          "execution_count": 16
        }
      ]
    },
    {
      "cell_type": "markdown",
      "source": [
        "$\\text{There are four cases to consider} \\\\ \n",
        "\\quad \\lvert 00 \\rangle ⇒ \\lvert 00 \\rangle\n",
        "⇒ \\lvert 00 \\rangle ⇒ \\lvert 00 \\rangle \\\\\n",
        "\\quad \\lvert 01 \\rangle ⇒ \\lvert 11 \\rangle\n",
        "⇒ \\lvert 10 \\rangle ⇒ \\lvert 10 \\rangle \\\\\n",
        "\\quad \\lvert 10 \\rangle ⇒ \\lvert 10 \\rangle\n",
        "⇒ \\lvert 11 \\rangle ⇒ \\lvert 01 \\rangle \\\\\n",
        "\\quad \\lvert 11 \\rangle ⇒ \\lvert 01 \\rangle\n",
        "⇒ \\lvert 01 \\rangle ⇒ \\lvert 11 \\rangle \\\\\n",
        "$ "
      ],
      "metadata": {
        "id": "Sii1tveZG3li"
      }
    },
    {
      "cell_type": "markdown",
      "source": [
        "$\\textbf{b) }$\n"
      ],
      "metadata": {
        "id": "yLefmq_k3NpL"
      }
    },
    {
      "cell_type": "code",
      "source": [
        "qc = QuantumCircuit(QuantumRegister(1, 'q'), QuantumRegister(1, '1'))\n",
        "qc.h(1)\n",
        "qc.cnot(0,1)\n",
        "qc.draw(output='mpl')"
      ],
      "metadata": {
        "colab": {
          "base_uri": "https://localhost:8080/",
          "height": 140
        },
        "id": "-t2ApYj_2AsB",
        "outputId": "f815c625-6c35-466d-ea6f-40a865e23995"
      },
      "execution_count": 17,
      "outputs": [
        {
          "output_type": "execute_result",
          "data": {
            "text/plain": [
              "<Figure size 193.726x144.48 with 1 Axes>"
            ],
            "image/png": "[encoded data removed]"
          },
          "metadata": {},
          "execution_count": 17
        }
      ]
    },
    {
      "cell_type": "markdown",
      "source": [
        "$\n",
        "\\text{CNOT } \\lvert q,- \\rangle = \\frac{1}{\\sqrt{2}} (\\text{CNOT } \\lvert q,0 \\rangle \n",
        "- \\text{CNOT } \\lvert q,1 \\rangle) \\\\\n",
        "\\text{Case where } q = 0 \\text{:} \\\\\n",
        "\\quad = \\frac{1}{\\sqrt{2}} (\\text{CNOT } \\lvert 00 \\rangle \n",
        "- \\text{CNOT } \\lvert 01 \\rangle) \\\\\n",
        "\\quad = \\frac{1}{\\sqrt{2}} (\\lvert 00 \\rangle \n",
        "- \\lvert 01 \\rangle) \\\\\n",
        "\\quad \\Rightarrow q = \\lvert 0 \\rangle \\\\ \n",
        "\\text{Case where } q = 1 \\text{:} \\\\\n",
        "\\quad = \\frac{1}{\\sqrt{2}} (\\text{CNOT } \\lvert 10 \\rangle \n",
        "- \\text{CNOT } \\lvert 11 \\rangle) \\\\\n",
        "\\quad = \\frac{1}{\\sqrt{2}} (\\lvert 11 \\rangle \n",
        "- \\lvert 10 \\rangle) \\\\\n",
        "\\quad = -\\frac{1}{\\sqrt{2}} (\\lvert 10 \\rangle \n",
        "- \\lvert 11 \\rangle) \\\\\n",
        "\\quad \\Rightarrow q = - \\lvert 1 \\rangle\n",
        "$"
      ],
      "metadata": {
        "id": "YqeEAQRKDnRQ"
      }
    },
    {
      "cell_type": "markdown",
      "source": [
        "$\\textbf{Question 4:}$"
      ],
      "metadata": {
        "id": "gshJc9PWH2y2"
      }
    },
    {
      "cell_type": "markdown",
      "source": [
        "$\n",
        "\\text{Suppose we define a new function } g(x_n) \\text{ s.t }\n",
        "$\n",
        "\\begin{equation} \n",
        "g(x_n) = \\left\\{ f(x_n) \\text{ when } x_n \\text{ is in first } N/2 \\text{ of inputs}\\\\\n",
        "\\quad \\quad \\quad \\quad \\quad \\neg f(x_n) \\text{ when } x_n \\text{ is in second } N/2 \\text{ of inputs}\n",
        "\\right\\}\n",
        "\\end{equation}\n",
        "$ \\text{this can be implemented with the Pauli-X and Toffoli gates.} \\\\\n",
        "\\text{Replace } U_f \\text{ with CCNOT}_{x_{n/2}, y}((X_{n/2} \\otimes I_{n/2} \\otimes X)(U_f|x_0x_1\\ldots x_n y\\rangle )) \\\\\n",
        "\\text{The oracle is now followed by an OR decision (the X and Toffoli gate combination)} \\\\ \\text{that determines whether the output qubit is flipped based on the OR of the first n/2 qubits of the input.} \\\\\n",
        "\\text{With this change to the oracle, the problem is solved by the traditional Deutsch-Josza algorithm since g(x) is either balanced or constant.}\n",
        "$"
      ],
      "metadata": {
        "id": "iKR9VQz_VOHz"
      }
    }
  ]
}